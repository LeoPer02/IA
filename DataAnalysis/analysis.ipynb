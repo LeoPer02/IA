{
 "cells": [
  {
   "cell_type": "code",
   "execution_count": 88,
   "metadata": {},
   "outputs": [],
   "source": [
    "algs = [\n",
    "    ('IDS', '1'),\n",
    "    ('Gulosa manh', '2 1'),\n",
    "    ('Gulosa sum', '2 2'),\n",
    "    ('A star manh', '3 1'),\n",
    "    ('A star sum', '3 2'),\n",
    "    #('BFS', '4'),\n",
    "    #('DFS', '5')\n",
    "]\n",
    "\n",
    "inputs = [\n",
    "    ('1 2 3 4 9 5 7 8 13 6 10 12 0 14 11 15', '1 2 3 4 5 6 7 8 9 10 11 12 13 14 15 0', 7),\n",
    "    ('6 12 5 9 14 2 4 11 0 7 8 13 3 10 1 15', '14 6 12 9 7 2 5 11 8 4 13 15 3 10 1 0', 12),\n",
    "    #('1 2 3 4 9 5 7 8 13 6 10 12 0 11 14 15', '1 2 3 4 5 6 7 8 9 10 11 12 13 14 15 0', 16)\n",
    "]"
   ]
  },
  {
   "cell_type": "code",
   "execution_count": 89,
   "metadata": {},
   "outputs": [],
   "source": [
    "import pandas as pd"
   ]
  },
  {
   "cell_type": "code",
   "execution_count": 90,
   "metadata": {},
   "outputs": [
    {
     "name": "stdout",
     "output_type": "stream",
     "text": [
      "7 - IDS\n",
      "7 - Gulosa manh\n",
      "7 - Gulosa sum\n",
      "7 - A star manh\n",
      "7 - A star sum\n",
      "12 - IDS\n",
      "12 - Gulosa manh\n",
      "12 - Gulosa sum\n",
      "12 - A star manh\n",
      "12 - A star sum\n"
     ]
    }
   ],
   "source": [
    "import shlex\n",
    "from subprocess import check_output, Popen, PIPE\n",
    "\n",
    "def get_depth_from_line(line):\n",
    "    return int(line.split()[-1])\n",
    "\n",
    "def get_time_from_line(line):\n",
    "    return float(line.split()[-2])\n",
    "\n",
    "def get_max_nodes_from_line(line):\n",
    "    return int(line.split()[-1])    \n",
    "\n",
    "df = pd.DataFrame(columns=['algorithm', 'min_depth', 'exec_time', 'max_nodes', 'solution_depth', 'depth/cost'])\n",
    "file_path = '/home/matheus/UP/IA/trabalhos/IA/cmake-build-debug/tmp.txt'\n",
    "for inp in inputs:\n",
    "    for alg in algs:\n",
    "        print(f'{inp[2]} - {alg[0]}')\n",
    "        with open(file_path, 'w') as f:\n",
    "            f.write(f'{inp[0]}\\n{inp[1]}\\n{alg[1]}')\n",
    "        cmd = f'/home/matheus/UP/IA/trabalhos/IA/cmake-build-debug/IA < {file_path}'\n",
    "        process = Popen(cmd, stdout=PIPE, shell=True)\n",
    "        out, _ = process.communicate()\n",
    "        out = out.decode('utf-8')\n",
    "        out = out.split('\\n')\n",
    "\n",
    "        exec_time = get_time_from_line(out[-2])\n",
    "\n",
    "        alg_name = alg[0].split()[0]\n",
    "        alg_validation = alg_name != 'A' and alg_name != 'Gulosa'\n",
    "\n",
    "        max_nodes = get_max_nodes_from_line(out[-3]) if alg_validation else None\n",
    "        depth = get_depth_from_line(out[-4]) if alg_validation else None\n",
    "\n",
    "        df = df.append([alg[0], inp[2], exec_time, max_nodes, depth, None])\n",
    "\n",
    "df.to_csv('/home/matheus/UP/IA/trabalhos/IA/DataAnalysis/data.csv')"
   ]
  }
 ],
 "metadata": {
  "interpreter": {
   "hash": "521bd52f7db69f83952e45c69a41cc5a9312142da056b7c563e70a654200e62d"
  },
  "kernelspec": {
   "display_name": "Python 3.9.5 ('base')",
   "language": "python",
   "name": "python3"
  },
  "language_info": {
   "codemirror_mode": {
    "name": "ipython",
    "version": 3
   },
   "file_extension": ".py",
   "mimetype": "text/x-python",
   "name": "python",
   "nbconvert_exporter": "python",
   "pygments_lexer": "ipython3",
   "version": "3.9.5"
  },
  "orig_nbformat": 4
 },
 "nbformat": 4,
 "nbformat_minor": 2
}
